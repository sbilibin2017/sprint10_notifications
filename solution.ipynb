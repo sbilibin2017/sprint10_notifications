{
 "cells": [
  {
   "cell_type": "markdown",
   "metadata": {},
   "source": [
    "# NOTIFICATIONS MVP"
   ]
  },
  {
   "cell_type": "markdown",
   "metadata": {},
   "source": [
    "### 0. libraries"
   ]
  },
  {
   "cell_type": "code",
   "execution_count": 67,
   "metadata": {},
   "outputs": [],
   "source": [
    "import pandas as pd\n",
    "import numpy as np\n",
    "from tqdm import tqdm_notebook\n",
    "import pydantic\n",
    "import http\n",
    "import jinja2 "
   ]
  },
  {
   "cell_type": "markdown",
   "metadata": {},
   "source": [
    "### 1. database"
   ]
  },
  {
   "cell_type": "code",
   "execution_count": 59,
   "metadata": {},
   "outputs": [],
   "source": [
    "def get_movies_db(n_movies):    \n",
    "    L = []\n",
    "    for _ in range(n_movies):\n",
    "        d = {}\n",
    "        d[\"id\"] = _+1\n",
    "        d[\"title\"] = f\"movie{_+1}\"\n",
    "        d[\"imdb_rating\"] = np.around(np.random.uniform(0, 10), 1)\n",
    "        L.append(d)\n",
    "    df = pd.DataFrame.from_records(L)\n",
    "    del L\n",
    "    return df\n",
    "\n",
    "def get_users_db(n_users):    \n",
    "    L = []\n",
    "    for _ in range(n_users):\n",
    "        d = {}\n",
    "        d[\"id\"] = _+1\n",
    "        d[\"full_name\"] = f\"full_name{_+1}\"\n",
    "        d[\"email\"] = f\"email{_+1}\"\n",
    "        L.append(d)\n",
    "    df = pd.DataFrame.from_records(L)\n",
    "    del L\n",
    "    return df\n",
    "\n",
    "def get_templates_db():  \n",
    "    d = {\"id\":1, \"template\":\"Dear {{ user_full_name }}, new {{ movie_title }} series has been released\", \"vars\":\"movie_title,user_full_name\"}\n",
    "    df = pd.DataFrame.from_records([d])\n",
    "    return df"
   ]
  },
  {
   "cell_type": "code",
   "execution_count": 60,
   "metadata": {},
   "outputs": [],
   "source": [
    "df_movies_db = get_movies_db(1000)\n",
    "df_users_db = get_users_db(10000)\n",
    "df_templates_db = get_templates_db()"
   ]
  },
  {
   "cell_type": "markdown",
   "metadata": {},
   "source": [
    "### dto"
   ]
  },
  {
   "cell_type": "code",
   "execution_count": 61,
   "metadata": {},
   "outputs": [],
   "source": [
    "class MovieDTO(pydantic.BaseModel):\n",
    "    title: str\n",
    "    \n",
    "class UserDTO(pydantic.BaseModel):\n",
    "    full_name: str\n",
    "    email: str\n",
    "    \n",
    "class TemplateDTO(pydantic.BaseModel):\n",
    "    template: str\n",
    "    vars: str\n",
    "    \n",
    "class ResponseDTO(pydantic.BaseModel):\n",
    "    data:  MovieDTO | UserDTO | TemplateDTO | None\n",
    "    status: http.HTTPStatus"
   ]
  },
  {
   "cell_type": "markdown",
   "metadata": {},
   "source": [
    "### service"
   ]
  },
  {
   "cell_type": "code",
   "execution_count": 62,
   "metadata": {},
   "outputs": [],
   "source": [
    "class MovieService:\n",
    "    def __init__(self):\n",
    "        self.db = df_movies_db.copy()\n",
    "        \n",
    "    async def get_by_id(self, id:int, dto: MovieDTO) -> ResponseDTO:\n",
    "        return ResponseDTO(\n",
    "            data = dto(**self.db.query(\"id==@id\").iloc[0].to_dict()),\n",
    "            status = http.HTTPStatus.OK\n",
    "        )\n",
    "        \n",
    "class UserService:\n",
    "    def __init__(self):\n",
    "        self.db = df_users_db.copy()\n",
    "        \n",
    "    async def get_by_id(self, id:int, dto: UserDTO) -> ResponseDTO:\n",
    "        return ResponseDTO(\n",
    "            data = dto(**self.db.query(\"id==@id\").iloc[0].to_dict()),\n",
    "            status = http.HTTPStatus.OK\n",
    "        )\n",
    "        \n",
    "        \n",
    "class TemplateService:\n",
    "    def __init__(self):\n",
    "        self.db = df_templates_db.copy()\n",
    "        \n",
    "    async def get_by_id(self, id:int, dto: TemplateDTO) -> ResponseDTO:\n",
    "        return ResponseDTO(\n",
    "            data = dto(**self.db.query(\"id==@id\").iloc[0].to_dict()),\n",
    "            status = http.HTTPStatus.OK\n",
    "        )"
   ]
  },
  {
   "cell_type": "code",
   "execution_count": 63,
   "metadata": {},
   "outputs": [
    {
     "data": {
      "text/plain": [
       "ResponseDTO(data=MovieDTO(title='movie1'), status=<HTTPStatus.OK: 200>)"
      ]
     },
     "execution_count": 63,
     "metadata": {},
     "output_type": "execute_result"
    }
   ],
   "source": [
    "movie_service = MovieService()\n",
    "await movie_service.get_by_id(1, MovieDTO)"
   ]
  },
  {
   "cell_type": "code",
   "execution_count": 64,
   "metadata": {},
   "outputs": [
    {
     "data": {
      "text/plain": [
       "ResponseDTO(data=UserDTO(full_name='full_name1', email='email1'), status=<HTTPStatus.OK: 200>)"
      ]
     },
     "execution_count": 64,
     "metadata": {},
     "output_type": "execute_result"
    }
   ],
   "source": [
    "user_service = UserService()\n",
    "await user_service.get_by_id(1, UserDTO)"
   ]
  },
  {
   "cell_type": "code",
   "execution_count": 65,
   "metadata": {},
   "outputs": [
    {
     "data": {
      "text/plain": [
       "ResponseDTO(data=TemplateDTO(template='Dear {{ user_full_name }}, new {{ movie_title }} series has been released', vars='movie_title,user_full_name'), status=<HTTPStatus.OK: 200>)"
      ]
     },
     "execution_count": 65,
     "metadata": {},
     "output_type": "execute_result"
    }
   ],
   "source": [
    "template_service = TemplateService()\n",
    "await template_service.get_by_id(1, TemplateDTO)"
   ]
  },
  {
   "cell_type": "markdown",
   "metadata": {},
   "source": [
    "### api gateway\n",
    "* microservices:\n",
    "1. movies\n",
    "2. users\n",
    "3. templates"
   ]
  },
  {
   "cell_type": "code",
   "execution_count": null,
   "metadata": {},
   "outputs": [],
   "source": [
    "class NotificationService:\n",
    "    async def send_email(\n",
    "        self,\n",
    "        template_id: int,\n",
    "        movie_id: int,\n",
    "        users_id: tuple[int]\n",
    "        \n",
    "    ):   \n",
    "        pass\n",
    "    \n",
    "    async def send_push(self):\n",
    "        pass\n",
    "    \n",
    "    async def send_telegram(self):\n",
    "        pass"
   ]
  },
  {
   "cell_type": "code",
   "execution_count": 48,
   "metadata": {},
   "outputs": [
    {
     "data": {
      "text/html": [
       "<div>\n",
       "<style scoped>\n",
       "    .dataframe tbody tr th:only-of-type {\n",
       "        vertical-align: middle;\n",
       "    }\n",
       "\n",
       "    .dataframe tbody tr th {\n",
       "        vertical-align: top;\n",
       "    }\n",
       "\n",
       "    .dataframe thead th {\n",
       "        text-align: right;\n",
       "    }\n",
       "</style>\n",
       "<table border=\"1\" class=\"dataframe\">\n",
       "  <thead>\n",
       "    <tr style=\"text-align: right;\">\n",
       "      <th></th>\n",
       "      <th>id</th>\n",
       "      <th>template</th>\n",
       "      <th>vars</th>\n",
       "    </tr>\n",
       "  </thead>\n",
       "  <tbody>\n",
       "    <tr>\n",
       "      <th>0</th>\n",
       "      <td>1</td>\n",
       "      <td>Уважаемый {{ user_full_name }}, вышла новавя с...</td>\n",
       "      <td>movie_title,user_full_name</td>\n",
       "    </tr>\n",
       "  </tbody>\n",
       "</table>\n",
       "</div>"
      ],
      "text/plain": [
       "   id                                           template  \\\n",
       "0   1  Уважаемый {{ user_full_name }}, вышла новавя с...   \n",
       "\n",
       "                         vars  \n",
       "0  movie_title,user_full_name  "
      ]
     },
     "execution_count": 48,
     "metadata": {},
     "output_type": "execute_result"
    }
   ],
   "source": [
    "# api gateway\n",
    "def send_email_notification(\n",
    "    template_id: int,\n",
    "    movie_id: int,\n",
    "    users_id: tuple[int]\n",
    "):\n",
    "    # ----- RabbitMQ -> RPC call templates service\n",
    "    # ----- RabbitMQ <- data about user\n",
    "    d_user = {...} \n",
    "    \n",
    "    # ----- RabbitMQ -> RPC call movies service\n",
    "    # ----- RabbitMQ <- data about movie\n",
    "    d_movie = {...} \n",
    "    \n",
    "    # ----- RabbitMQ -> RPC call users service\n",
    "    # ----- RabbitMQ <- data about template\n",
    "    d_template = {...} \n",
    "    \n",
    "    jinja_template = d_template[\"template\"]\n",
    "    vars = d_template[\"vars\"]\n",
    "    rtemplate = jinja2.Environment(loader=jinja2.BaseLoader).from_string(jinja_template)\n",
    "    message = rtemplate.render(**vars)\n",
    "    \n",
    "    # ----- RabbitMQ -> RPC call notification service(send email)\n",
    "    send_email(message, user.email)\n",
    "    # send_push(message, user.email)\n",
    "    # send_telegram(message, user.email)\n"
   ]
  },
  {
   "cell_type": "code",
   "execution_count": null,
   "metadata": {},
   "outputs": [],
   "source": []
  },
  {
   "cell_type": "code",
   "execution_count": null,
   "metadata": {},
   "outputs": [],
   "source": []
  }
 ],
 "metadata": {
  "kernelspec": {
   "display_name": "Python 3",
   "language": "python",
   "name": "python3"
  },
  "language_info": {
   "codemirror_mode": {
    "name": "ipython",
    "version": 3
   },
   "file_extension": ".py",
   "mimetype": "text/x-python",
   "name": "python",
   "nbconvert_exporter": "python",
   "pygments_lexer": "ipython3",
   "version": "3.10.12"
  },
  "orig_nbformat": 4
 },
 "nbformat": 4,
 "nbformat_minor": 2
}
